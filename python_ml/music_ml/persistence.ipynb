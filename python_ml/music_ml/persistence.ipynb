{
 "cells": [
  {
   "cell_type": "code",
   "execution_count": 1,
   "metadata": {},
   "outputs": [
    {
     "name": "stderr",
     "output_type": "stream",
     "text": [
      "c:\\Users\\Hiranmay-Strix\\anaconda3\\lib\\site-packages\\sklearn\\base.py:450: UserWarning: X does not have valid feature names, but DecisionTreeClassifier was fitted with feature names\n",
      "  warnings.warn(\n"
     ]
    },
    {
     "data": {
      "text/plain": [
       "array(['HipHop'], dtype=object)"
      ]
     },
     "execution_count": 1,
     "metadata": {},
     "output_type": "execute_result"
    }
   ],
   "source": [
    "import pandas as pd\n",
    "from sklearn.tree import DecisionTreeClassifier\n",
    "from joblib import dump, load\n",
    "\n",
    "# musicData = pd.read_csv('./music.csv')\n",
    "# X = musicData.drop(columns=['genre'])\n",
    "# y = musicData['genre']\n",
    "\n",
    "# model = DecisionTreeClassi fier()\n",
    "# model.fit(X, y)\n",
    "\n",
    "model = load('./music-reccomender.joblib')\n",
    "\n",
    "predictions = model.predict([[21, 1]])\n",
    "predictions"
   ]
  }
 ],
 "metadata": {
  "kernelspec": {
   "display_name": "base",
   "language": "python",
   "name": "python3"
  },
  "language_info": {
   "codemirror_mode": {
    "name": "ipython",
    "version": 3
   },
   "file_extension": ".py",
   "mimetype": "text/x-python",
   "name": "python",
   "nbconvert_exporter": "python",
   "pygments_lexer": "ipython3",
   "version": "3.9.13"
  },
  "orig_nbformat": 4,
  "vscode": {
   "interpreter": {
    "hash": "29de19f13c35536b22190884f2593b89a352cd640f90db29cef3e7cfc8459b26"
   }
  }
 },
 "nbformat": 4,
 "nbformat_minor": 2
}
