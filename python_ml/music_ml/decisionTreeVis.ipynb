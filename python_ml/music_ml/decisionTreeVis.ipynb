{
 "cells": [
  {
   "cell_type": "code",
   "execution_count": 4,
   "metadata": {},
   "outputs": [],
   "source": [
    "import pandas as pd\n",
    "from sklearn.tree import DecisionTreeClassifier\n",
    "from sklearn import tree\n",
    "\n",
    "musicData = pd.read_csv('./music.csv')\n",
    "X = musicData.drop(columns=['genre'])\n",
    "y = musicData['genre']\n",
    "\n",
    "model = DecisionTreeClassifier()\n",
    "model.fit(X, y)\n",
    "\n",
    "tree.export_graphviz(model, \n",
    "out_file='music-reccomender.dot', \n",
    "feature_names=['age', 'gender'], \n",
    "class_names=sorted(y.unique()), \n",
    "label='all',\n",
    "rounded=True,\n",
    "filled=True\n",
    ")\n"
   ]
  }
 ],
 "metadata": {
  "kernelspec": {
   "display_name": "base",
   "language": "python",
   "name": "python3"
  },
  "language_info": {
   "codemirror_mode": {
    "name": "ipython",
    "version": 3
   },
   "file_extension": ".py",
   "mimetype": "text/x-python",
   "name": "python",
   "nbconvert_exporter": "python",
   "pygments_lexer": "ipython3",
   "version": "3.9.13"
  },
  "orig_nbformat": 4,
  "vscode": {
   "interpreter": {
    "hash": "29de19f13c35536b22190884f2593b89a352cd640f90db29cef3e7cfc8459b26"
   }
  }
 },
 "nbformat": 4,
 "nbformat_minor": 2
}
